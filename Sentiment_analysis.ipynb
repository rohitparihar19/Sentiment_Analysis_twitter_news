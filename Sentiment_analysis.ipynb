{
  "nbformat": 4,
  "nbformat_minor": 0,
  "metadata": {
    "colab": {
      "name": "Sentiment_analysis.ipynb",
      "provenance": [],
      "mount_file_id": "1OSDP_5HmiPY87omjkS2ZXJvLOGol2Ssm",
      "authorship_tag": "ABX9TyOq2oxS+K3GapAo+8DNko5z",
      "include_colab_link": true
    },
    "kernelspec": {
      "name": "python3",
      "display_name": "Python 3"
    },
    "language_info": {
      "name": "python"
    },
    "accelerator": "GPU"
  },
  "cells": [
    {
      "cell_type": "markdown",
      "metadata": {
        "id": "view-in-github",
        "colab_type": "text"
      },
      "source": [
        "<a href=\"https://colab.research.google.com/github/rohitparihar19/Sentiment_Analysis_twitter_news/blob/main/Sentiment_analysis.ipynb\" target=\"_parent\"><img src=\"https://colab.research.google.com/assets/colab-badge.svg\" alt=\"Open In Colab\"/></a>"
      ]
    },
    {
      "cell_type": "code",
      "execution_count": 1,
      "metadata": {
        "id": "qKmkpvsWaKTO",
        "colab": {
          "base_uri": "https://localhost:8080/"
        },
        "outputId": "81fb4fc3-cde6-45c6-b044-d1575c1f9038"
      },
      "outputs": [
        {
          "output_type": "execute_result",
          "data": {
            "text/plain": [
              "['Twitter.txt']"
            ]
          },
          "metadata": {},
          "execution_count": 1
        }
      ],
      "source": [
        "# Importing api key file \n",
        "import configparser \n",
        "config = configparser.RawConfigParser() \n",
        "config.read(filenames = 'Twitter.txt')"
      ]
    },
    {
      "cell_type": "code",
      "source": [
        "!pip install tweepy \n"
      ],
      "metadata": {
        "colab": {
          "base_uri": "https://localhost:8080/"
        },
        "id": "agzqWGhD48gl",
        "outputId": "6135fa6a-ca93-4a36-97b6-0a4ae0751ecb"
      },
      "execution_count": 2,
      "outputs": [
        {
          "output_type": "stream",
          "name": "stdout",
          "text": [
            "Looking in indexes: https://pypi.org/simple, https://us-python.pkg.dev/colab-wheels/public/simple/\n",
            "Requirement already satisfied: tweepy in /usr/local/lib/python3.7/dist-packages (3.10.0)\n",
            "Requirement already satisfied: requests[socks]>=2.11.1 in /usr/local/lib/python3.7/dist-packages (from tweepy) (2.23.0)\n",
            "Requirement already satisfied: six>=1.10.0 in /usr/local/lib/python3.7/dist-packages (from tweepy) (1.15.0)\n",
            "Requirement already satisfied: requests-oauthlib>=0.7.0 in /usr/local/lib/python3.7/dist-packages (from tweepy) (1.3.1)\n",
            "Requirement already satisfied: oauthlib>=3.0.0 in /usr/local/lib/python3.7/dist-packages (from requests-oauthlib>=0.7.0->tweepy) (3.2.0)\n",
            "Requirement already satisfied: chardet<4,>=3.0.2 in /usr/local/lib/python3.7/dist-packages (from requests[socks]>=2.11.1->tweepy) (3.0.4)\n",
            "Requirement already satisfied: urllib3!=1.25.0,!=1.25.1,<1.26,>=1.21.1 in /usr/local/lib/python3.7/dist-packages (from requests[socks]>=2.11.1->tweepy) (1.24.3)\n",
            "Requirement already satisfied: idna<3,>=2.5 in /usr/local/lib/python3.7/dist-packages (from requests[socks]>=2.11.1->tweepy) (2.10)\n",
            "Requirement already satisfied: certifi>=2017.4.17 in /usr/local/lib/python3.7/dist-packages (from requests[socks]>=2.11.1->tweepy) (2022.5.18.1)\n",
            "Requirement already satisfied: PySocks!=1.5.7,>=1.5.6 in /usr/local/lib/python3.7/dist-packages (from requests[socks]>=2.11.1->tweepy) (1.7.1)\n"
          ]
        }
      ]
    },
    {
      "cell_type": "code",
      "source": [
        "# importing utilities\n",
        "import re\n",
        "import tweepy as tw\n",
        "from tweepy import OAuthHandler\n",
        "from textblob import TextBlob"
      ],
      "metadata": {
        "id": "KOUIppNBArvS"
      },
      "execution_count": 3,
      "outputs": []
    },
    {
      "cell_type": "code",
      "source": [
        "# Defining twitter API key to use later for authentication\n",
        "accesstoken = config.get('twitter','accesstoken') \n",
        "accesstokensecret = config.get('twitter','accesstokensecret') \n",
        "apikey = config.get('twitter','apikey') \n",
        "apisecretkey = config.get('twitter','apisecretkey')"
      ],
      "metadata": {
        "id": "AdZRw9G2Btz2"
      },
      "execution_count": 4,
      "outputs": []
    },
    {
      "cell_type": "code",
      "source": [
        "# Authentication\n",
        "auth = tw.OAuthHandler(apikey,apisecretkey) \n",
        "auth.set_access_token(accesstoken,accesstokensecret) \n",
        "api = tw.API(auth,wait_on_rate_limit=True)"
      ],
      "metadata": {
        "id": "yAO9u2L2BlCo"
      },
      "execution_count": 5,
      "outputs": []
    },
    {
      "cell_type": "code",
      "source": [
        "#Scrapping the News headlines using tweepy \n",
        "search_word = '#news' \n",
        "tweets = tw.Cursor(api.search,q = search_word, lang ='en').items(100)\n",
        "tweet_details = [[tweet.text]for tweet in tweets]\n",
        "print(tweet_details)"
      ],
      "metadata": {
        "id": "UDWL7oOQD87y",
        "colab": {
          "base_uri": "https://localhost:8080/"
        },
        "outputId": "7ebd7442-f92f-44e0-db25-0db134deb771"
      },
      "execution_count": 6,
      "outputs": [
        {
          "output_type": "stream",
          "name": "stdout",
          "text": [
            "[[\"End of thermal cars in 2035: 'good news' even if 'the clean vehicle does not exist' - #the_clean #thermal #dunedin… https://t.co/p37jA4HYFM\"], ['Member Of Drug Cartel Sentenced To Nine Years In Federal Prison – 750 KXL\\n\\nChronLaw Agency Law News\\nat… https://t.co/ocYWRV3RgM'], ['Japan financial authorities to meet later today to discuss on global financial markets https://t.co/YjmZMTo53W #News'], ['✓ SocialFlow, Sprout Social, Tweepi, Roeder Studios, Buffer, SocialOomph, Sendible, etc - Xaralite #news #SNRTG ➣➣➣ https://t.co/zRuYxVczTP'], ['RT @RisksAssociated: Live: Kyiv losing up to 200 troops a day https://t.co/a9bAt7tAqr #Ukraine #Russia #News'], ['RT @PetitionIssue: Submitted GOK Grievance 20 days ago but no action \\n\\nSir @BSBommai @RAshokaBJP @CMofKarnataka @JManjunathIAS @PMOIndia- L…'], [\"RT @PetitionIssue: Sent @CPGRAMS grievance to @PMOIndia 75 days ago. NO Response - Status 'forwarded Under Secretary-2 #Karnataka' File wit…\"], ['RT @IndiaToday: Andhra Pradesh Police used a bulldozer to bring down the Telugu Desam Party’s Anna Canteen, which provides meals at Rs 2 to…'], ['RT @HostingJournal: Systems Integrator Insight Acquires Azure MSP, Hanu Software Solutions https://t.co/o1R8zSmonU #ManagedHosting #News'], ['RT @JeetMeh39672822: Blockchain Daily News (03 June 2022) :\\n\\n#Blockchain #cryptocurrency #Bitcoin #BTC #Ethereum #DeFi #NFTs #Enterprise #f…'], [\"California's biggest Mega Millions winner comes forward; bought $426M winning ticket in Woodland Hills https://t.co/336NcNe5eu #news\"], ['#News Are we on the verge of a cure for cancer? This week, scientists announced breakthroughs with vaccine… https://t.co/mkzM69gm2e'], [\"#News Russia-Ukraine latest news: Kyiv condemns British fighters' death sentence as legally invalid… https://t.co/wBj0QYCbym\"], ['🧐 hmmmmm..\\n\\n#FreeBritney #BritneySpears \\n#retweet @ tmz. #June2022 \\n#music #news .. https://t.co/M8wD33wRtk'], ['Watch The Rolling Stones cover The Beatles’ ‘I Wanna Be Your Man’ in Liverpool https://t.co/tXHqbaMoat Earn money n… https://t.co/XfqR1gZGeV'], ['@BettyAmongiMP: Priority should be put on polices for recovery of jobs lost during the pandemic. Global efforts to… https://t.co/2s8v2cNWJh'], [\"RT @etribune: Senate passes Fiscal Responsibility and Debt Limitation (Amendment) Bill, despite opposition's fierce resistance\\n\\nFor more: h…\"], ['Foreign Office minister meets with Brazilian chief of police over m... (The Independent)\\n\\nA Foreign Office minister… https://t.co/icx07VlGEq'], ['Lord Frost warns PM has until autumn to save himself from being ous... (The Independent)\\n\\nBoris Johnson confirms pl… https://t.co/pMdpfpsytl'], ['every time.\\n#comic #doomscrolling #news #art https://t.co/PHIZMA0t0M'], ['RT @HealthVings: IMCR issues fresh guideline for Type 1 Diabetes | What you must know - Hindustan Times https://t.co/KaCvqtsKre #diabetes #…'], ['Former Trump Education Secretary DeVos says she had 25th Amendment discussions with Pence and Cabinet members – KIO… https://t.co/SHBye7JTgf'], ['Jan. 6 hearings live updates: What witnesses and evidence revealed – MSNBC\\n\\nChronLaw 25th Amendment News\\nat… https://t.co/ezJuS7BVxH'], ['‘Key to the committee’: CNN reporter on new interview from Betsy DeVos – CNN\\n\\nChronLaw 25th Amendment News\\nat… https://t.co/jrEY4xxAUa'], ['Cheney: Members of Trump’s cabinet discussed possibility of evoking 25th Amendment – MSNBC\\n\\nChronLaw 25th Amendment… https://t.co/MmJfhqxfcT'], ['Putin compared himself to Peter the Great, Russia’s first emperor, in trying to justify his invasion of Ukraine – Y… https://t.co/qdQqvnKNYE'], ['6 new things we learned from the first public Jan. 6 hearing – CBS News\\n\\nChronLaw 25th Amendment News\\nat… https://t.co/1NIK1b8Hr9'], ['Ex-Proud Boys leader says he’d wished he’d sold ‘stand back and stand by’ t-shirts after Trump’s debate comment – Y… https://t.co/7GN6a5dg7K'], ['RT @Randbreloaded: Check out \"The Grand African Ball 2022\" https://t.co/eKtWtkq0du\\n@Randbreloaded #FridayMotivation #NewYork #NewJersey #NY…'], ['$4.3M In Atty Fees Awarded In Pot Co. Canopy’s $13M Deal – Law360\\n\\nChronLaw Attorney Fees News\\nat… https://t.co/gIeUAFxuF0'], ['RT @im2damnsexc: The constant telephone conversations of the President of #France have already become an occasion for jokes - in the social…'], ['RT @DataShadow: Snowflake offers cybersecurity data platform with security app integrations https://t.co/dj5rfFAmve #DataPrivacy #DataProte…'], ['RT @Randbreloaded: Turn the heat up a notch with this escape, expertly designed events via \\nhttps://t.co/OfbUeXk2my @Randbreloaded #FridayM…'], ['Police probe ties to illegal fishing in case of missing British journalist and Brazilian tribal expert… https://t.co/9geyX0I7Qg'], ['Want the latest #Laos #news on demand?\\n\\nGet all the #news headlines for #Lao PDR, with direct source links updated… https://t.co/jOtiFR9tbe'], ['#News Are we on the verge of a cure for cancer? This week, scientists announced breakthroughs with vaccine \\nhttps://t.co/D1G5fFEqVv'], ['RT @DemonSlayerUSA: #NEWS Demon Slayer: Kimetsu no Yaiba 3rd Anniversary Celebration presented by @aniplexUSA is coming to @AnimeExpo on Ju…'], ['RT @ttindia: Equity benchmark #Sensex declined nearly 600 points in early trade on Friday. Get more #news about #Trade and #Business here:…'], ['RT @etribune: Lambasting the female lawmakers of PTI for attacking the parliament, Information Minister Marriyum Aurangzeb has advised them…'], ['RT @CoinViewCap: #cvc #coinviewcap volume going up everyday and getting close to 350k volume per day on #CoinMarketCap \\n\\n#BKEX exchange jus…'], ['Rs9.5t deficit budget today https://t.co/gLUiT1JxRH #news #pakistan'], ['RT @NewsfirstSL: Reservoir gates opened during CEBEU strike\\n\\nDetails: https://t.co/TUOHAsFkmK\\n\\n#lka #SriLanka #SLnews #News #News1st #CEB #…'], [\"RT @etribune: Senate passes Fiscal Responsibility and Debt Limitation (Amendment) Bill, despite opposition's fierce resistance\\n\\nFor more: h…\"], ['Sidhu Moose Wala murder: Another sharpshooter nabbed by Punjab cops\\n &gt;&gt; Watch Now https://t.co/EZFPfCgCPO\\n\\n#Sidhu… https://t.co/oW8lEuT6IT'], ['Can #America Be Saved..?? 👀\\n\\n• https://t.co/pliEdPucxJ •\\n\\n#YetToCome #ReadyForProof #News #TrueFaith #Faith… https://t.co/qA0vwzbcDy'], ['What the papers say - June 10 (The Independent)\\n\\nThe death sentences handed to British men Aiden Aslin and Shaun Pi… https://t.co/7LWuROKx2M'], ['WhatsApp getting a new Beta V2.22.13.14 and Stable V2.22.12.77 update [Download Link] #News #WhatsApp #Update  https://t.co/2F4ucLbFoB'], ['RT @etribune: The Pay and Pension Commission (PPC) set up by the federal government will propose a massive overhaul of the salaries and pen…'], [\"RT @PetitionIssue: Sent @CPGRAMS grievance to @PMOIndia 75 days ago. NO Response - Status 'forwarded Under Secretary-2 #Karnataka' File wit…\"], ['RT @TSBL_Online: 𝐓𝐡𝐞 𝐌𝐚𝐫𝐤𝐞𝐭 𝐏𝐮𝐥𝐬𝐞 - June 10, 2022\\n\\n#TSBL #PSX #economy #news  #Pakistan #StockMarket #currency #USD #economy #trading #dail…'], ['RT @etribune: The Supreme Court on Thursday raised questions on the amendments to the rules related to the Exit Control List (ECL).\\n\\nFor mo…'], ['RT @m2mtechconnect: What are the types of phishing in cybersecurity? 🎣💻⚠️\\n\\n#m2mtechbytes #coding #ai #artificialintelligence #machinelearni…'], ['RT @IndiaToday: Ecuador, Japan, Malta, Mozambique and Switzerland were elected to the UN Security Council as non-permanent members for the…'], ['RT @FionnTail: Signs You’re Getting One of the “Most Deadly” Cancers\\n\\n#health #healthtips #news #bodyhealth #cancer\\nhttps://t.co/7E8h6KsPjV'], ['RT @DemonSlayerUSA: #NEWS Demon Slayer: Kimetsu no Yaiba 3rd Anniversary Celebration presented by @aniplexUSA is coming to @AnimeExpo on Ju…'], ['Britney Spears wedding dramatically interrupted as her first husband Jason Alexander crashes and police called - Th… https://t.co/3T1k0qkVqL'], ['Signs You’re Getting One of the “Most Deadly” Cancers\\n\\n#health #healthtips #news #bodyhealth #cancer\\nhttps://t.co/7E8h6KsPjV'], ['A Capitol Police officer injured on Jan. 6 recalls the chaos and carnage - NPR https://t.co/2RHAuKyjkU #news #topstories #berkleybearnews'], ['#SuperFastNews 🚀Catch the top international headlines!\\n\\n#news #Ukraine @_tanima_biswas https://t.co/FGrvLV6Mgw'], ['RT @etribune: The Supreme Court on Thursday raised questions on the amendments to the rules related to the Exit Control List (ECL).\\n\\nFor mo…'], ['RT @etribune: The family of Dr Aamir Liaquat Hussain’s third wife wants to attend the last rites of the deceased televangelist, as his moth…'], ['RT @EnzoSannino7: ADOPT  SANDY! 🙏❤️ #LosAngeles #California Please SHARE🙏 FOSTERING is Free! ADOPT TO SAVE A LIFE!❤\\n\\n SANDY #A5470685 (1 ye…'], ['Eating Less of This Could Reduce Your Hair Loss, New Study Finds\\n\\n#healthy #healthyeating #skinconditions #diet… https://t.co/C9WEqr3zLV'], ['RT @DrJDrooghaag: #Goldenhearts by Christina Goebel \\n\\nvia @DrjDrooghaag @SpearheadMan #LeadershipCircle https://t.co/m04LIlbIv8 #news'], ['RT @PetitionIssue: Submitted GOK Grievance 20 days ago but no action \\n\\nSir @BSBommai @RAshokaBJP @CMofKarnataka @JManjunathIAS @PMOIndia- L…'], [\"RT @PetitionIssue: Sent @CPGRAMS grievance to @PMOIndia 75 days ago. NO Response - Status 'forwarded Under Secretary-2 #Karnataka' File wit…\"], ['#News Stefan Dennis says wrapping on Neighbours is ‘a melancholy day’ https://t.co/hcVmbGLRYl https://t.co/GEIacH1WeM'], ['RT @IndiaToday: 2 JD(S) MLAs to cross-vote for BJP candidate?\\nRajya Sabha Elections 2022 LIVE Updates: https://t.co/u2B8HxJ0Xo\\n\\n#RajyaSabha…'], ['RT @CVCOfficial_: #cvc #coinviewcap volume going up everyday and getting close to 350k volume per day on #CoinMarketCap \\n\\n#BKEX exchange ju…'], ['RT @CoinViewCap: #cvc #coinviewcap volume going up everyday and getting close to 350k volume per day on #CoinMarketCap \\n\\n#BKEX exchange jus…'], ['RT @PetitionIssue: Submitted GOK Grievance 20 days ago but no action \\n\\nSir @BSBommai @RAshokaBJP @CMofKarnataka @JManjunathIAS @PMOIndia- L…'], [\"RT @PetitionIssue: Sent @CPGRAMS grievance to @PMOIndia 75 days ago. NO Response - Status 'forwarded Under Secretary-2 #Karnataka' File wit…\"], ['RT @RunTheChain: Which #crypto will be the most popular by application in the future?\\n\\n#crypto #cryptocurrency #btc #news #nft #defi #web3'], ['RT @IndiaToday: 2 JD(S) MLAs to cross-vote for BJP candidate?\\nRajya Sabha Elections 2022 LIVE Updates: https://t.co/u2B8HxJ0Xo\\n\\n#RajyaSabha…'], ['RT @NewsMobileIndia: #FridayFeeling | NewsMobile Morning Brief\\n\\n#GoodMorning, start your day with our think+ and #trending and most importa…'], ['*Kaam* *ki* *khabar* \\n40 percent interest waiver if water dues are paid by 30.06.22\\nAnd so on.....\\n\\n *Home Consulta… https://t.co/5ORPQ10ok7'], ['#cvc #coinviewcap volume going up everyday and getting close to 350k volume per day on #CoinMarketCap \\n\\n#BKEX excha… https://t.co/IDe4hUzw2c'], ['2 JD(S) MLAs to cross-vote for BJP candidate?\\nRajya Sabha Elections 2022 LIVE Updates: https://t.co/u2B8HxJ0Xo… https://t.co/Re0QQwXvJt'], [\"Sent @CPGRAMS grievance to @PMOIndia 75 days ago. NO Response - Status 'forwarded Under Secretary-2 #Karnataka' Fil… https://t.co/dXqWTxlhL1\"], ['The #Zomato board will meet on June 17 to sign off the #acquisition of the quick #commerce company #blinked.\\n.\\n.\\n.… https://t.co/9gcBq7EKSc'], ['#cvc #coinviewcap volume going up everyday and getting close to 350k volume per day on #CoinMarketCap \\n\\n#BKEX excha… https://t.co/mHUSX6kKer'], ['Little on the agenda in Europe today https://t.co/N7iutRzoJQ #News'], [\"RT @Vishesh62452293: Don't Have Time to Exercise? Try Doing This Instead, Says Research\\n\\n#exercise #mentalhealth #news #hearthealth #wellne…\"], ['👀 If mealworms are good enough for Nicole Kidman…?\\n\\n\"2 billion people in the world eat bugs, and I\\'m one of them!\"… https://t.co/Dc7rbCtajh'], ['Much awaited news!\\nKudos for this step forward #news https://t.co/wp3Bhop1Ii'], ['RT @Goatys_News: ⚠️ UK #GALE WARNINGS &amp; #Shipping Forecast #Maritime #Fishing #Sailing #Wx #News https://t.co/duD8o3eHsO'], ['#News Where Manchester United stand on Frenkie de Jong and Darwin Nunez as transfer window opens… https://t.co/aMmTSqnnxR'], [\"#News Liverpool's Darwin Nunez transfer hands Jurgen Klopp his biggest managerial test yet https://t.co/0ZCOYocctp https://t.co/df0FbMEkPB\"], ['Want the latest #Indonesia #news on demand?\\n\\nGet all the #newsheadlines for Indonesia, with direct source links upd… https://t.co/YQu9pTweal'], ['\"Hey User, I\\'m suddenly all bett-\" https://t.co/6UYZuYdRKK  #gaming #news #gamer #australia #gamers #love #esports… https://t.co/AO5D7aeE5D'], ['Maharashtra: AIMIM MLAs to vote for Congress candidate in Rajya Sabha polls After more than two decades, Maharashtr… https://t.co/5TeVV9JiZQ'], ['RT @LtGenGurmit: Today had a very lively and vibrant interaction with #media fraternity from #Nainital . Stressed that Progressive and cons…'], ['New “Citadel Advantage News Digest - Issue #117” - 10 June -  https://t.co/Zj0u53O6lJ #NEWS about #Money #Payments… https://t.co/Gujg8GdUFi'], ['#News Woman convicted under Covid laws for attending Sarah Everard vigil accuses Met Police of ‘power play’… https://t.co/OVVV3N2u61'], ['#News Love Island spoilers: Gemma tells Luca she is ‘attracted’ to him as Davide calls new bombshells ‘fire’… https://t.co/UZSYABTzTs'], ['RT @Nyksindia: Glimpses of Investor Awareness Program of Jaitaran Block of NYK Pali, Rajasthan.\\n\\n#pali #rajasthan #news #media #investor #I…'], ['RT @EnzoSannino7: ADOPT COCO! 🙏❤️ #LosAngeles #California Please SHARE🙏 FOSTERING is Free! ADOPT TO SAVE A LIFE!❤\\n\\nCOCO #A5479272 (3 years…'], ['iOS/iPadOS 16, macOS 13, tvOS 16 native video player components already support double-speed playback #News #iOS16… https://t.co/Zqs1131m0P'], [\"Amid Poilievre criticism, BoC governor says he'll 'leave the politics to the politicians' - CTV News has been publi… https://t.co/3AWRuszOKB\"], ['300 NAB employees investigated, Senate informed https://t.co/3c4FnbqKh6 #news #pakistan']]\n"
          ]
        }
      ]
    },
    {
      "cell_type": "code",
      "source": [
        "# Defining Utility functions for cleaning and analysing the news \n",
        "\n",
        "def clean_tweet(tweet):\n",
        "        '''\n",
        "        Utility function to clean tweet text by removing links, special characters\n",
        "        using simple regex statements.\n",
        "        '''\n",
        "        return ' '.join(re.sub(\"(@[A-Za-z0-9]+)|([^0-9A-Za-z \\t])|(\\w+:\\/\\/\\S+)\", \" \", tweet).split())\n",
        "  \n",
        "def get_tweet_sentiment(tweet):\n",
        "    '''\n",
        "    Utility function to classify sentiment of passed tweet\n",
        "    using textblob's sentiment method\n",
        "    '''\n",
        "    # create TextBlob object of passed tweet text\n",
        "    analysis = TextBlob(clean_tweet(tweet))\n",
        "    print(analysis)\n",
        "    # set sentiment\n",
        "    if analysis.sentiment.polarity > 0:\n",
        "        return 'positive'\n",
        "    elif analysis.sentiment.polarity == 0:\n",
        "        return 'neutral'\n",
        "    else:\n",
        "        return 'negative'"
      ],
      "metadata": {
        "id": "8UMzgxyVARun"
      },
      "execution_count": 7,
      "outputs": []
    },
    {
      "cell_type": "code",
      "source": [
        "# Analysing News and printing results \n",
        "for news in tweet_details:\n",
        "  news = str(news)\n",
        "  result = get_tweet_sentiment(news)\n",
        "  print(result)"
      ],
      "metadata": {
        "colab": {
          "base_uri": "https://localhost:8080/"
        },
        "id": "gHtXq0Bw_mZN",
        "outputId": "64b46641-ee1a-4c9c-e4e7-f9fab5086013"
      },
      "execution_count": 8,
      "outputs": [
        {
          "output_type": "stream",
          "name": "stdout",
          "text": [
            "End of thermal cars in 2035 good news even if the clean vehicle does not exist the clean thermal dunedin\n",
            "positive\n",
            "Member Of Drug Cartel Sentenced To Nine Years In Federal Prison 750 KXL n nChronLaw Agency Law News nat\n",
            "neutral\n",
            "Japan financial authorities to meet later today to discuss on global financial markets News\n",
            "neutral\n",
            "SocialFlow Sprout Social Tweepi Roeder Studios Buffer SocialOomph Sendible etc Xaralite news SNRTG\n",
            "positive\n",
            "RT Live Kyiv losing up to 200 troops a day Ukraine Russia News\n",
            "positive\n",
            "RT Submitted GOK Grievance 20 days ago but no action n nSir L\n",
            "negative\n",
            "RT Sent grievance to 75 days ago NO Response Status forwarded Under Secretary 2 Karnataka File wit\n",
            "neutral\n",
            "RT Andhra Pradesh Police used a bulldozer to bring down the Telugu Desam Party s Anna Canteen which provides meals at Rs 2 to\n",
            "negative\n",
            "RT Systems Integrator Insight Acquires Azure MSP Hanu Software Solutions ManagedHosting News\n",
            "neutral\n",
            "RT Blockchain Daily News 03 June 2022 n n Blockchain cryptocurrency Bitcoin BTC Ethereum DeFi NFTs Enterprise f\n",
            "neutral\n",
            "California s biggest Mega Millions winner comes forward bought 426M winning ticket in Woodland Hills news\n",
            "positive\n",
            "News Are we on the verge of a cure for cancer This week scientists announced breakthroughs with vaccine\n",
            "neutral\n",
            "News Russia Ukraine latest news Kyiv condemns British fighters death sentence as legally invalid\n",
            "positive\n",
            "hmmmmm n n FreeBritney BritneySpears n retweet tmz June2022 n music news\n",
            "neutral\n",
            "Watch The Rolling Stones cover The Beatles I Wanna Be Your Man in Liverpool Earn money n\n",
            "neutral\n",
            "Priority should be put on polices for recovery of jobs lost during the pandemic Global efforts to\n",
            "neutral\n",
            "RT Senate passes Fiscal Responsibility and Debt Limitation Amendment Bill despite opposition s fierce resistance n nFor more h\n",
            "positive\n",
            "Foreign Office minister meets with Brazilian chief of police over m The Independent n nA Foreign Office minister\n",
            "negative\n",
            "Lord Frost warns PM has until autumn to save himself from being ous The Independent n nBoris Johnson confirms pl\n",
            "neutral\n",
            "every time n comic doomscrolling news art\n",
            "positive\n",
            "RT IMCR issues fresh guideline for Type 1 Diabetes What you must know Hindustan Times diabetes\n",
            "positive\n",
            "Former Trump Education Secretary DeVos says she had 25th Amendment discussions with Pence and Cabinet members KIO\n",
            "neutral\n",
            "Jan 6 hearings live updates What witnesses and evidence revealed MSNBC n nChronLaw 25th Amendment News nat\n",
            "positive\n",
            "Key to the committee CNN reporter on new interview from Betsy DeVos CNN n nChronLaw 25th Amendment News nat\n",
            "positive\n",
            "Cheney Members of Trump s cabinet discussed possibility of evoking 25th Amendment MSNBC n nChronLaw 25th Amendment\n",
            "neutral\n",
            "Putin compared himself to Peter the Great Russia s first emperor in trying to justify his invasion of Ukraine Y\n",
            "positive\n",
            "6 new things we learned from the first public Jan 6 hearing CBS News n nChronLaw 25th Amendment News nat\n",
            "positive\n",
            "Ex Proud Boys leader says he d wished he d sold stand back and stand by t shirts after Trump s debate comment Y\n",
            "positive\n",
            "RT Check out The Grand African Ball 2022 FridayMotivation NewYork NewJersey NY\n",
            "positive\n",
            "4 3M In Atty Fees Awarded In Pot Co Canopy s 13M Deal Law360 n nChronLaw Attorney Fees News nat\n",
            "neutral\n",
            "RT The constant telephone conversations of the President of France have already become an occasion for jokes in the social\n",
            "positive\n",
            "RT Snowflake offers cybersecurity data platform with security app integrations DataPrivacy DataProte\n",
            "positive\n",
            "RT Turn the heat up a notch with this escape expertly designed events via FridayM\n",
            "neutral\n",
            "Police probe ties to illegal fishing in case of missing British journalist and Brazilian tribal expert\n",
            "negative\n",
            "Want the latest Laos news on demand n nGet all the news headlines for Lao PDR with direct source links updated\n",
            "positive\n",
            "News Are we on the verge of a cure for cancer This week scientists announced breakthroughs with vaccine\n",
            "neutral\n",
            "RT NEWS Demon Slayer Kimetsu no Yaiba 3rd Anniversary Celebration presented by is coming to on Ju\n",
            "neutral\n",
            "RT Equity benchmark Sensex declined nearly 600 points in early trade on Friday Get more news about Trade and Business here\n",
            "positive\n",
            "RT Lambasting the female lawmakers of PTI for attacking the parliament Information Minister Marriyum Aurangzeb has advised them\n",
            "neutral\n",
            "RT cvc coinviewcap volume going up everyday and getting close to 350k volume per day on CoinMarketCap n n BKEX exchange jus\n",
            "negative\n",
            "Rs9 5t deficit budget today news pakistan\n",
            "neutral\n",
            "RT Reservoir gates opened during CEBEU strike n nDetails SriLanka SLnews News News1st CEB\n",
            "neutral\n",
            "RT Senate passes Fiscal Responsibility and Debt Limitation Amendment Bill despite opposition s fierce resistance n nFor more h\n",
            "positive\n",
            "Sidhu Moose Wala murder Another sharpshooter nabbed by Punjab cops n gt gt Watch Now\n",
            "neutral\n",
            "Can America Be Saved n n n n YetToCome ReadyForProof News TrueFaith Faith\n",
            "neutral\n",
            "What the papers say June 10 The Independent n nThe death sentences handed to British men Aiden Aslin and Shaun Pi\n",
            "neutral\n",
            "WhatsApp getting a new Beta V2 22 13 14 and Stable V2 22 12 77 update Download Link News WhatsApp Update\n",
            "positive\n",
            "RT The Pay and Pension Commission PPC set up by the federal government will propose a massive overhaul of the salaries and pen\n",
            "neutral\n",
            "RT Sent grievance to 75 days ago NO Response Status forwarded Under Secretary 2 Karnataka File wit\n",
            "neutral\n",
            "RT Online June 10 2022 n n TSBL PSX economy news Pakistan StockMarket currency USD economy trading dail\n",
            "neutral\n",
            "RT The Supreme Court on Thursday raised questions on the amendments to the rules related to the Exit Control List ECL n nFor mo\n",
            "neutral\n",
            "RT What are the types of phishing in cybersecurity n n m2mtechbytes coding ai artificialintelligence machinelearni\n",
            "neutral\n",
            "RT Ecuador Japan Malta Mozambique and Switzerland were elected to the UN Security Council as non permanent members for the\n",
            "neutral\n",
            "RT Signs You re Getting One of the Most Deadly Cancers n n health healthtips news bodyhealth cancer\n",
            "positive\n",
            "RT NEWS Demon Slayer Kimetsu no Yaiba 3rd Anniversary Celebration presented by is coming to on Ju\n",
            "neutral\n",
            "Britney Spears wedding dramatically interrupted as her first husband Jason Alexander crashes and police called Th\n",
            "positive\n",
            "Signs You re Getting One of the Most Deadly Cancers n n health healthtips news bodyhealth cancer\n",
            "positive\n",
            "A Capitol Police officer injured on Jan 6 recalls the chaos and carnage NPR news topstories berkleybearnews\n",
            "neutral\n",
            "SuperFastNews Catch the top international headlines n n news Ukraine tanima biswas\n",
            "positive\n",
            "RT The Supreme Court on Thursday raised questions on the amendments to the rules related to the Exit Control List ECL n nFor mo\n",
            "neutral\n",
            "RT The family of Dr Aamir Liaquat Hussain s third wife wants to attend the last rites of the deceased televangelist as his moth\n",
            "positive\n",
            "RT ADOPT SANDY LosAngeles California Please SHARE FOSTERING is Free ADOPT TO SAVE A LIFE n n SANDY A5470685 1 ye\n",
            "positive\n",
            "Eating Less of This Could Reduce Your Hair Loss New Study Finds n n healthy healthyeating skinconditions diet\n",
            "positive\n",
            "RT Goldenhearts by Christina Goebel n nvia LeadershipCircle news\n",
            "neutral\n",
            "RT Submitted GOK Grievance 20 days ago but no action n nSir L\n",
            "negative\n",
            "RT Sent grievance to 75 days ago NO Response Status forwarded Under Secretary 2 Karnataka File wit\n",
            "neutral\n",
            "News Stefan Dennis says wrapping on Neighbours is a melancholy day\n",
            "neutral\n",
            "RT 2 JD S MLAs to cross vote for BJP candidate nRajya Sabha Elections 2022 LIVE Updates\n",
            "positive\n",
            "RT cvc coinviewcap volume going up everyday and getting close to 350k volume per day on CoinMarketCap n n BKEX exchange ju\n",
            "negative\n",
            "RT cvc coinviewcap volume going up everyday and getting close to 350k volume per day on CoinMarketCap n n BKEX exchange jus\n",
            "negative\n",
            "RT Submitted GOK Grievance 20 days ago but no action n nSir L\n",
            "negative\n",
            "RT Sent grievance to 75 days ago NO Response Status forwarded Under Secretary 2 Karnataka File wit\n",
            "neutral\n",
            "RT Which crypto will be the most popular by application in the future n n crypto cryptocurrency btc news nft defi web3\n",
            "positive\n",
            "RT 2 JD S MLAs to cross vote for BJP candidate nRajya Sabha Elections 2022 LIVE Updates\n",
            "positive\n",
            "RT FridayFeeling NewsMobile Morning Brief n n GoodMorning start your day with our think and trending and most importa\n",
            "positive\n",
            "Kaam ki khabar n40 percent interest waiver if water dues are paid by 30 06 22 nAnd so on n n Home Consulta\n",
            "neutral\n",
            "cvc coinviewcap volume going up everyday and getting close to 350k volume per day on CoinMarketCap n n BKEX excha\n",
            "negative\n",
            "2 JD S MLAs to cross vote for BJP candidate nRajya Sabha Elections 2022 LIVE Updates\n",
            "positive\n",
            "Sent grievance to 75 days ago NO Response Status forwarded Under Secretary 2 Karnataka Fil\n",
            "neutral\n",
            "The Zomato board will meet on June 17 to sign off the acquisition of the quick commerce company blinked n n n\n",
            "positive\n",
            "cvc coinviewcap volume going up everyday and getting close to 350k volume per day on CoinMarketCap n n BKEX excha\n",
            "negative\n",
            "Little on the agenda in Europe today News\n",
            "negative\n",
            "RT Don t Have Time to Exercise Try Doing This Instead Says Research n n exercise mentalhealth news hearthealth wellne\n",
            "neutral\n",
            "If mealworms are good enough for Nicole Kidman n n 2 billion people in the world eat bugs and I m one of them\n",
            "positive\n",
            "Much awaited news nKudos for this step forward news\n",
            "positive\n",
            "RT News UK GALE WARNINGS amp Shipping Forecast Maritime Fishing Sailing Wx News\n",
            "neutral\n",
            "News Where Manchester United stand on Frenkie de Jong and Darwin Nunez as transfer window opens\n",
            "neutral\n",
            "News Liverpool s Darwin Nunez transfer hands Jurgen Klopp his biggest managerial test yet\n",
            "neutral\n",
            "Want the latest Indonesia news on demand n nGet all the newsheadlines for Indonesia with direct source links upd\n",
            "positive\n",
            "Hey User I m suddenly all bett gaming news gamer australia gamers love esports\n",
            "positive\n",
            "Maharashtra AIMIM MLAs to vote for Congress candidate in Rajya Sabha polls After more than two decades Maharashtr\n",
            "positive\n",
            "RT Today had a very lively and vibrant interaction with media fraternity from Nainital Stressed that Progressive and cons\n",
            "positive\n",
            "New Citadel Advantage News Digest Issue 117 10 June NEWS about Money Payments\n",
            "positive\n",
            "News Woman convicted under Covid laws for attending Sarah Everard vigil accuses Met Police of power play\n",
            "neutral\n",
            "News Love Island spoilers Gemma tells Luca she is attracted to him as Davide calls new bombshells fire\n",
            "positive\n",
            "RT Glimpses of Investor Awareness Program of Jaitaran Block of NYK Pali Rajasthan n n pali rajasthan news media investor I\n",
            "neutral\n",
            "RT ADOPT COCO LosAngeles California Please SHARE FOSTERING is Free ADOPT TO SAVE A LIFE n nCOCO A5479272 3 years\n",
            "positive\n",
            "iOS iPadOS 16 macOS 13 tvOS 16 native video player components already support double speed playback News iOS16\n",
            "neutral\n",
            "Amid Poilievre criticism BoC governor says he ll leave the politics to the politicians CTV News has been publi\n",
            "neutral\n",
            "300 NAB employees investigated Senate informed news pakistan\n",
            "neutral\n"
          ]
        }
      ]
    }
  ]
}